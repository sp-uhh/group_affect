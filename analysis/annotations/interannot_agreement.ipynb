{
 "cells": [
  {
   "cell_type": "code",
   "execution_count": 1,
   "metadata": {},
   "outputs": [],
   "source": [
    "import sys, os\n",
    "sys.path.append(os.path.join(os.getcwd(), \"../../\"))"
   ]
  },
  {
   "cell_type": "code",
   "execution_count": 2,
   "metadata": {},
   "outputs": [],
   "source": [
    "import math\n",
    "import pandas as pd \n",
    "import numpy as np\n",
    "import agreement_utils as calc\n",
    "from itertools import combinations\n",
    "\n",
    "from readers.memo_ga import MEMOGroupAff"
   ]
  },
  {
   "cell_type": "code",
   "execution_count": 3,
   "metadata": {},
   "outputs": [],
   "source": [
    "def zm_labels(labels_df):\n",
    "    for interaction in np.unique(labels_df[\"interactionID\"].values):\n",
    "        for annot_col in labels_df.columns:\n",
    "            if \"_00\" in annot_col: \n",
    "                curr_df = labels_df.loc[labels_df['interactionID'] == interaction, annot_col]\n",
    "                if not curr_df.isnull().values.any():\n",
    "                    curr_df = curr_df-round(np.mean(curr_df.values))\n",
    "                    labels_df.loc[labels_df['interactionID'] == interaction, annot_col] = curr_df\n",
    "    return labels_df\n",
    "\n",
    "def load_labels(zm=False):\n",
    "    memodb = MEMOGroupAff()\n",
    "    labels_df = pd.read_csv(memodb.joint_labels_df_path)\n",
    "    if zm:\n",
    "        labels_df = zm_labels(labels_df)\n",
    "    return labels_df, memodb.groups, memodb.sessions, memodb.emo_dims, memodb.annotators, memodb"
   ]
  },
  {
   "cell_type": "markdown",
   "metadata": {},
   "source": [
    "# Parameters"
   ]
  },
  {
   "cell_type": "code",
   "execution_count": 4,
   "metadata": {},
   "outputs": [],
   "source": [
    "is_zm = False\n",
    "# cohens kappa parameters\n",
    "submode_cohen = \"quadratic\"\n",
    "# fleiss kappa parameters\n",
    "submode_fleiss = \"unif\" # ‘randolph’ or ‘uniform’ (only first 4 letters are needed) \n",
    "# pcorrel kappa parameters\n",
    "# krank correl kappa parameters"
   ]
  },
  {
   "cell_type": "code",
   "execution_count": 5,
   "metadata": {},
   "outputs": [
    {
     "name": "stdout",
     "output_type": "stream",
     "text": [
      "Annotators -  ['001', '002', '003', '004', '005', '006', '007', '008']\n",
      "['10_1' '10_2' '10_3' '11_1' '11_2' '11_3' '12_1' '12_2' '12_3' '13_1'\n",
      " '13_2' '13_3' '14_1' '14_2' '14_3' '15_1' '15_2' '15_3' '4_1' '4_2' '4_3'\n",
      " '5_1' '5_2' '5_3' '6_1' '6_2' '6_3' '7_1' '7_2' '7_3' '8_1' '8_2' '9_1'\n",
      " '9_2' '9_3']\n"
     ]
    }
   ],
   "source": [
    "labels_df, groups, sessions, emo_dims, annotators, memodb = load_labels(zm=is_zm)\n",
    "print('Annotators - ', annotators)\n",
    "print(np.unique(labels_df[\"interactionID\"].values))"
   ]
  },
  {
   "cell_type": "code",
   "execution_count": 6,
   "metadata": {},
   "outputs": [],
   "source": [
    "def omit_least_agreement_annot(annot_df, annots, emo_dim):\n",
    "    df = annot_df.copy()\n",
    "    final_annots = annots.copy()\n",
    "    if emo_dim == \"arousal\":\n",
    "        df = df.drop(columns=[\"Arousal_003\"])\n",
    "        final_annots.remove(\"003\")\n",
    "    elif emo_dim == \"valence\":\n",
    "        df = df.drop(columns=[\"Valence_006\"])\n",
    "        final_annots.remove(\"006\")\n",
    "    return df, final_annots\n",
    "\n",
    "def calc_samplewise_agreement_for_MEMO(emodim, mode=\"mse\"):        \n",
    "    final_labels_df = labels_df\n",
    "    final_annotators = annotators\n",
    "        \n",
    "    print(\" Calculating for \", emodim, \" annotations ~~~~~~~, for annotators = \",  str(final_annotators))\n",
    "    req_cols = [i[0]+\"_\"+i[1] for i in combinations(final_annotators, 2)]\n",
    "    req_cols.extend(['interactionID', \"average_\"+mode])\n",
    "\n",
    "    samplewise_scores = []\n",
    "    interction_ids = []\n",
    "    window_ids = []\n",
    "    groundtruths = []\n",
    "    for grp in groups:\n",
    "        for ses in sessions:\n",
    "            if grp+\"_\"+ses != \"8_3\":\n",
    "                avg_score, pairwise_scores, mean_labels = calc.calc_agreement_for(final_labels_df, group=grp, session=ses, emo_dim=emodim, mode=mode)\n",
    "                \n",
    "                samplewise_scores.extend(avg_score.tolist())\n",
    "                interction_ids.extend(np.repeat(\"group\"+grp+\"_session\"+ses, avg_score.shape[0]))\n",
    "                window_ids.extend(np.arange(0, avg_score.shape[0]))\n",
    "                groundtruths.extend(mean_labels)\n",
    "                \n",
    "    return pd.DataFrame(data={'InteractionId': interction_ids, 'WindowId': window_ids, mode: samplewise_scores, emodim: groundtruths})\n",
    "\n",
    "# Util Fn..,\n",
    "def calc_agreement_for_MEMO(memodb, mode, submode, best5=False):\n",
    "    \n",
    "    for dim in emo_dims:\n",
    "        if best5:\n",
    "            final_labels_df, final_annotators = omit_least_agreement_annot(labels_df, annotators, dim)\n",
    "        else:\n",
    "            final_labels_df = labels_df\n",
    "            final_annotators = annotators\n",
    "        print(\" Calculating for \", dim, \" annotations ~~~~~~~, for annotators = \",  str(final_annotators))\n",
    "        req_cols = [i[0]+\"_\"+i[1] for i in combinations(final_annotators, 2)]\n",
    "        req_cols.extend(['interactionID', \"average_\"+mode])\n",
    "        agreement_df = pd.DataFrame(columns=req_cols)\n",
    "        overall_score = 0.0\n",
    "        nonnan_counter = 0\n",
    "        interaction_scores = {}\n",
    "        for grp in groups:\n",
    "            for ses in sessions:\n",
    "                if grp+\"_\"+ses != \"8_3\":\n",
    "                    avg_score, pairwise_scores = calc.calc_agreement_for(final_labels_df, group=grp, session=ses, emo_dim=dim, mode=mode, submode=submode)\n",
    "                    interaction_scores = pairwise_scores\n",
    "                    interaction_scores[\"interactionID\"] = grp+\"_\"+ses\n",
    "                    interaction_scores[\"average_\"+mode] = avg_score\n",
    "                    if not math.isnan(avg_score):\n",
    "                        overall_score = overall_score + avg_score\n",
    "                        nonnan_counter = nonnan_counter + 1\n",
    "                                           \n",
    "                    agreement_df = agreement_df._append(interaction_scores, ignore_index=True)\n",
    "        print(agreement_df.columns)\n",
    "        print(agreement_df.shape)\n",
    "                   \n",
    "        final_row = dict.fromkeys(interaction_scores, \"\")\n",
    "        final_row['interactionID'] = 'OVERALL '+ mode \n",
    "        print(\"No. of interactions = \", len(agreement_df))\n",
    "        final_row[\"average_\"+mode] = overall_score/nonnan_counter\n",
    "        agreement_df = agreement_df._append(final_row, ignore_index=True)\n",
    "        \n",
    "        zm_store = \"/zm/\" if is_zm else \"\"\n",
    "        store = memodb.annotator_agreement_folder + mode + zm_store + \"/pairwise/\" if not best5 else memodb.annotator_agreement_folder + mode + zm_store + \"/best5/pairwise/\"\n",
    "        os.makedirs(store, exist_ok = True)\n",
    "\n",
    "        submode_prefix = \"nonwgts\" if submode is None else submode        \n",
    "        fname = submode_prefix + \"_\"+ dim +\".csv\" if mode == 'cohen' else mode + \"_\"+ dim +\".csv\"\n",
    "        agreement_df.to_csv(store + fname)\n",
    "\n",
    "        overall_store = memodb.annotator_agreement_folder + mode + \"/\" + zm_store + fname if not best5 else memodb.annotator_agreement_folder + mode + zm_store + \"/best5/\" + fname\n",
    "        overall_agreement_df =  agreement_df[[\"interactionID\", \"average_\"+mode]]\n",
    "        overall_agreement_df.to_csv(overall_store)\n",
    "\n",
    "    return True   \n",
    "                  \n",
    "def calc_fleiss_agreement_for_MEMO(memodb, mode, submode, best5=False):\n",
    "    \n",
    "    for dim in emo_dims:\n",
    "        if best5:\n",
    "            final_labels_df, final_annotators = omit_least_agreement_annot(labels_df, annotators, dim)\n",
    "        else:\n",
    "            final_labels_df = labels_df\n",
    "            final_annotators = annotators\n",
    "            \n",
    "        print(\" Calculating for \", dim, \" annotations ~~~~~~~, for annotators = \",  str(final_annotators))\n",
    "        req_cols = ['interactionID', \"average_\"+mode]\n",
    "        \n",
    "        agreement_df = pd.DataFrame(columns=req_cols)\n",
    "        overall_score = 0.0\n",
    "        interaction_scores = {}\n",
    "        for grp in groups:\n",
    "            for ses in sessions:\n",
    "                if grp+\"_\"+ses != \"8_3\":\n",
    "                    fleiss_score, _ = calc.calc_agreement_for(final_labels_df, group=grp, session=ses, emo_dim=dim, mode=mode, submode=submode)\n",
    "                    interaction_scores[\"interactionID\"] = grp+\"_\"+ses\n",
    "                    interaction_scores[\"average_\"+mode] = fleiss_score\n",
    "                    overall_score = overall_score + fleiss_score\n",
    "                    \n",
    "                    agreement_df = agreement_df._append(interaction_scores, ignore_index=True)\n",
    "                        \n",
    "        final_row = dict.fromkeys(interaction_scores, \"\")\n",
    "        final_row['interactionID'] = 'OVERALL '+ mode \n",
    "        print(\"No. of interactions = \", len(agreement_df))\n",
    "        final_row[\"average_\"+mode] = overall_score/len(agreement_df)\n",
    "        agreement_df = agreement_df._append(final_row, ignore_index=True)\n",
    "        \n",
    "        store = memodb.annotator_agreement_folder + mode + \"/\"\n",
    "        fname = submode + \"_\" + dim + \".csv\"\n",
    "        os.makedirs(store, exist_ok = True)\n",
    "        agreement_df.to_csv(store + fname)\n",
    "\n",
    "    return True   \n",
    "\n",
    "def calculate_parirwise_agreement_confmatrix(memodb, mode, submode):\n",
    "    for dim in emo_dims:\n",
    "        print()\n",
    "        print()\n",
    "        print(\"Emotion Dimension = \", dim)\n",
    "        agreement_fldr = memodb.annotator_agreement_folder + mode + \"/pairwise/\" \n",
    "        agreement_file = agreement_fldr + submode + \"_\" + dim + \".csv\" \n",
    "        \n",
    "        agreement_df = pd.read_csv(agreement_file, index_col=False)[:-1]\n",
    "\n",
    "        pairwise_aggrement_dict = {}\n",
    "        for annot1 in memodb.annotators:\n",
    "            for annot2 in memodb.annotators:\n",
    "                annotpair_col = annot1+\"_\"+annot2\n",
    "                pairwise_aggrement_dict[annotpair_col] =  0.0 #np.mean(curr_col)\n",
    "                if annotpair_col in agreement_df.columns and len(agreement_df[annotpair_col].dropna())>0:\n",
    "                    curr_col = agreement_df[annotpair_col].dropna()\n",
    "                    pairwise_aggrement_dict[annotpair_col] =  np.mean(curr_col)\n",
    "\n",
    "        print_save_pairwise_confmatrix(memodb, pairwise_aggrement_dict, agreement_fldr, submode + \"_\" + dim + \"_pairconf.csv\")\n",
    "        \n",
    "def print_save_pairwise_confmatrix(memodb, dict, agreement_fldr, fname):\n",
    "    \n",
    "    df = pd.DataFrame(columns=memodb.annotators)\n",
    "    for annot1 in memodb.annotators:\n",
    "        curr_list = []\n",
    "        for annot2 in memodb.annotators:\n",
    "            pair1 = annot1+\"_\"+annot2\n",
    "            pair2 = annot2+\"_\"+annot1\n",
    "            pair_val = round(dict[pair1], 2) if round(dict[pair1], 2) != 0 else round(dict[pair2], 2)\n",
    "            curr_list.append(pair_val)\n",
    "        df.loc[len(df)] = curr_list\n",
    "    \n",
    "    mean_list = []\n",
    "    for annot in memodb.annotators:\n",
    "        non_zero_list = [i for i in df[annot].values if i != 0]\n",
    "        mean_list.append(round(np.mean(non_zero_list), 2))\n",
    "    df.loc[len(df)] = mean_list\n",
    "    \n",
    "    df = pd.concat([pd.Series(memodb.annotators), df], axis=1)\n",
    "    \n",
    "    print(df)\n",
    "    df.to_csv(agreement_fldr + fname)\n"
   ]
  },
  {
   "cell_type": "markdown",
   "metadata": {},
   "source": [
    "#### %%%%%%%%%%%%%%%%%%%%%%%%%%%%%%%%%%%%%%%%%%%"
   ]
  },
  {
   "cell_type": "markdown",
   "metadata": {},
   "source": [
    "# Quadratic Weighted Cohen's Kappa\n"
   ]
  },
  {
   "cell_type": "markdown",
   "metadata": {},
   "source": [
    "## Interaction & Annotator Pairs -wise - Save seperately"
   ]
  },
  {
   "cell_type": "code",
   "execution_count": 7,
   "metadata": {},
   "outputs": [
    {
     "name": "stdout",
     "output_type": "stream",
     "text": [
      " Calculating for  arousal  annotations ~~~~~~~, for annotators =  ['001', '002', '003', '004', '005', '006', '007', '008']\n",
      "Index(['001_002', '001_003', '001_004', '001_005', '001_006', '001_007',\n",
      "       '001_008', '002_003', '002_004', '002_005', '002_006', '002_007',\n",
      "       '002_008', '003_004', '003_005', '003_006', '003_007', '003_008',\n",
      "       '004_005', '004_006', '004_007', '004_008', '005_006', '005_007',\n",
      "       '005_008', '006_007', '006_008', '007_008', 'interactionID',\n",
      "       'average_cohen', '004_001', '004_002', '004_003'],\n",
      "      dtype='object')\n",
      "(35, 33)\n",
      "No. of interactions =  35\n",
      " Calculating for  valence  annotations ~~~~~~~, for annotators =  ['001', '002', '003', '004', '005', '006', '007', '008']\n",
      "Index(['001_002', '001_003', '001_004', '001_005', '001_006', '001_007',\n",
      "       '001_008', '002_003', '002_004', '002_005', '002_006', '002_007',\n",
      "       '002_008', '003_004', '003_005', '003_006', '003_007', '003_008',\n",
      "       '004_005', '004_006', '004_007', '004_008', '005_006', '005_007',\n",
      "       '005_008', '006_007', '006_008', '007_008', 'interactionID',\n",
      "       'average_cohen', '004_001', '004_002', '004_003'],\n",
      "      dtype='object')\n",
      "(35, 33)\n",
      "No. of interactions =  35\n"
     ]
    },
    {
     "data": {
      "text/plain": [
       "True"
      ]
     },
     "execution_count": 7,
     "metadata": {},
     "output_type": "execute_result"
    }
   ],
   "source": [
    "calc_agreement_for_MEMO(memodb, 'cohen', submode_cohen)"
   ]
  },
  {
   "cell_type": "code",
   "execution_count": 8,
   "metadata": {},
   "outputs": [
    {
     "name": "stdout",
     "output_type": "stream",
     "text": [
      " Calculating for  arousal  annotations ~~~~~~~, for annotators =  ['001', '002', '004', '005', '006', '007', '008']\n",
      "Index(['001_002', '001_004', '001_005', '001_006', '001_007', '001_008',\n",
      "       '002_004', '002_005', '002_006', '002_007', '002_008', '004_005',\n",
      "       '004_006', '004_007', '004_008', '005_006', '005_007', '005_008',\n",
      "       '006_007', '006_008', '007_008', 'interactionID', 'average_cohen',\n",
      "       '004_001', '004_002'],\n",
      "      dtype='object')\n",
      "(35, 25)\n",
      "No. of interactions =  35\n",
      " Calculating for  valence  annotations ~~~~~~~, for annotators =  ['001', '002', '003', '004', '005', '007', '008']\n",
      "Index(['001_002', '001_003', '001_004', '001_005', '001_007', '001_008',\n",
      "       '002_003', '002_004', '002_005', '002_007', '002_008', '003_004',\n",
      "       '003_005', '003_007', '003_008', '004_005', '004_007', '004_008',\n",
      "       '005_007', '005_008', '007_008', 'interactionID', 'average_cohen',\n",
      "       '004_001', '004_002', '004_003'],\n",
      "      dtype='object')\n",
      "(35, 26)\n",
      "No. of interactions =  35\n"
     ]
    },
    {
     "data": {
      "text/plain": [
       "True"
      ]
     },
     "execution_count": 8,
     "metadata": {},
     "output_type": "execute_result"
    }
   ],
   "source": [
    "calc_agreement_for_MEMO(memodb, 'cohen', submode_cohen, best5=True)"
   ]
  },
  {
   "cell_type": "markdown",
   "metadata": {},
   "source": [
    "## Pairwise Confusion Matrix"
   ]
  },
  {
   "cell_type": "code",
   "execution_count": 9,
   "metadata": {},
   "outputs": [
    {
     "name": "stdout",
     "output_type": "stream",
     "text": [
      "\n",
      "\n",
      "Emotion Dimension =  arousal\n",
      "     0   001   002   003   004   005   006   007   008\n",
      "0  001  0.00  0.38  0.00  0.47  0.26  0.40  0.40  0.50\n",
      "1  002  0.38  0.00  0.35  0.43  0.41  0.44  0.45  0.41\n",
      "2  003  0.00  0.35  0.00  0.36  0.36  0.32  0.31  0.45\n",
      "3  004  0.47  0.43  0.36  0.00  0.43  0.40  0.33  0.38\n",
      "4  005  0.26  0.41  0.36  0.43  0.00  0.42  0.33  0.00\n",
      "5  006  0.40  0.44  0.32  0.40  0.42  0.00  0.44  0.41\n",
      "6  007  0.40  0.45  0.31  0.33  0.33  0.44  0.00  0.60\n",
      "7  008  0.50  0.41  0.45  0.38  0.00  0.41  0.60  0.00\n",
      "8  NaN  0.40  0.41  0.36  0.40  0.37  0.40  0.41  0.46\n",
      "\n",
      "\n",
      "Emotion Dimension =  valence\n",
      "     0   001   002   003   004   005   006   007   008\n",
      "0  001  0.00  0.61  0.00  0.52  0.67  0.52  0.71  0.53\n",
      "1  002  0.61  0.00  0.62  0.63  0.59  0.51  0.59  0.60\n",
      "2  003  0.00  0.62  0.00  0.58  0.53  0.46  0.55  0.58\n",
      "3  004  0.52  0.63  0.58  0.00  0.65  0.55  0.56  0.60\n",
      "4  005  0.67  0.59  0.53  0.65  0.00  0.57  0.66  0.00\n",
      "5  006  0.52  0.51  0.46  0.55  0.57  0.00  0.56  0.50\n",
      "6  007  0.71  0.59  0.55  0.56  0.66  0.56  0.00  0.56\n",
      "7  008  0.53  0.60  0.58  0.60  0.00  0.50  0.56  0.00\n",
      "8  NaN  0.59  0.59  0.55  0.58  0.61  0.52  0.60  0.56\n"
     ]
    }
   ],
   "source": [
    "calculate_parirwise_agreement_confmatrix(memodb, \"cohen\", submode_cohen)"
   ]
  },
  {
   "cell_type": "markdown",
   "metadata": {},
   "source": [
    "#### %%%%%%%%%%%%%%%%%%%%%%%%%%%%%%%%%%%%%%%%%%%"
   ]
  },
  {
   "cell_type": "markdown",
   "metadata": {},
   "source": [
    "# Cronbach's Alpha"
   ]
  },
  {
   "cell_type": "code",
   "execution_count": 10,
   "metadata": {},
   "outputs": [
    {
     "name": "stdout",
     "output_type": "stream",
     "text": [
      " Calculating for  arousal  annotations ~~~~~~~, for annotators =  ['001', '002', '003', '004', '005', '006', '007', '008']\n",
      "No. of interactions =  35\n",
      " Calculating for  valence  annotations ~~~~~~~, for annotators =  ['001', '002', '003', '004', '005', '006', '007', '008']\n",
      "No. of interactions =  35\n"
     ]
    },
    {
     "data": {
      "text/plain": [
       "True"
      ]
     },
     "execution_count": 10,
     "metadata": {},
     "output_type": "execute_result"
    }
   ],
   "source": [
    "calc_fleiss_agreement_for_MEMO(memodb, 'cronbach', \"cronbach\")"
   ]
  },
  {
   "cell_type": "code",
   "execution_count": 11,
   "metadata": {},
   "outputs": [
    {
     "name": "stdout",
     "output_type": "stream",
     "text": [
      " Calculating for  arousal  annotations ~~~~~~~, for annotators =  ['001', '002', '004', '005', '006', '007', '008']\n",
      "No. of interactions =  35\n",
      " Calculating for  valence  annotations ~~~~~~~, for annotators =  ['001', '002', '003', '004', '005', '007', '008']\n",
      "No. of interactions =  35\n"
     ]
    },
    {
     "data": {
      "text/plain": [
       "True"
      ]
     },
     "execution_count": 11,
     "metadata": {},
     "output_type": "execute_result"
    }
   ],
   "source": [
    "calc_fleiss_agreement_for_MEMO(memodb, 'cronbach', \"cronbach\", best5=True)"
   ]
  },
  {
   "cell_type": "markdown",
   "metadata": {},
   "source": [
    "# Krippendorff's Alpha"
   ]
  },
  {
   "cell_type": "code",
   "execution_count": 12,
   "metadata": {},
   "outputs": [
    {
     "name": "stdout",
     "output_type": "stream",
     "text": [
      " Calculating for  arousal  annotations ~~~~~~~, for annotators =  ['001', '002', '003', '004', '005', '006', '007', '008']\n",
      "No. of interactions =  35\n",
      " Calculating for  valence  annotations ~~~~~~~, for annotators =  ['001', '002', '003', '004', '005', '006', '007', '008']\n",
      "No. of interactions =  35\n"
     ]
    },
    {
     "data": {
      "text/plain": [
       "True"
      ]
     },
     "execution_count": 12,
     "metadata": {},
     "output_type": "execute_result"
    }
   ],
   "source": [
    "calc_fleiss_agreement_for_MEMO(memodb, 'krippendorff', \"krippendorff\")"
   ]
  },
  {
   "cell_type": "markdown",
   "metadata": {},
   "source": [
    "# Quadratic Weighted Cohen's Kappa\n"
   ]
  },
  {
   "cell_type": "markdown",
   "metadata": {},
   "source": [
    "# Fleiss's Kappa\n"
   ]
  },
  {
   "cell_type": "markdown",
   "metadata": {},
   "source": [
    "## Interaction & Annotator Pairs -wise - Save seperately"
   ]
  },
  {
   "cell_type": "code",
   "execution_count": 13,
   "metadata": {},
   "outputs": [
    {
     "name": "stdout",
     "output_type": "stream",
     "text": [
      " Calculating for  arousal  annotations ~~~~~~~, for annotators =  ['001', '002', '003', '004', '005', '006', '007', '008']\n",
      "[[0 1 1 ... 0 0 0]\n",
      " [0 0 0 ... 0 0 0]\n",
      " [0 0 0 ... 0 0 0]\n",
      " ...\n",
      " [0 0 0 ... 0 0 0]\n",
      " [0 0 0 ... 0 0 0]\n",
      " [0 0 0 ... 0 0 0]]\n",
      "[[0 0 1 ... 0 0 0]\n",
      " [0 0 1 ... 0 0 0]\n",
      " [0 0 0 ... 0 0 0]\n",
      " ...\n",
      " [0 0 0 ... 0 0 0]\n",
      " [0 0 0 ... 0 0 0]\n",
      " [0 0 0 ... 0 0 0]]\n",
      "[[0 0 0 ... 0 0 0]\n",
      " [0 0 0 ... 0 0 0]\n",
      " [0 0 2 ... 0 0 0]\n",
      " ...\n",
      " [0 0 0 ... 1 0 0]\n",
      " [0 0 0 ... 0 0 0]\n",
      " [0 0 0 ... 0 0 0]]\n",
      "[[0 0 0 ... 0 0 0]\n",
      " [0 0 0 ... 0 0 0]\n",
      " [0 0 0 ... 0 0 0]\n",
      " ...\n",
      " [0 0 0 ... 0 0 0]\n",
      " [0 0 0 ... 0 0 0]\n",
      " [0 0 0 ... 0 0 0]]\n",
      "[[0 0 0 ... 0 0 0]\n",
      " [0 0 0 ... 0 0 0]\n",
      " [0 0 0 ... 0 0 0]\n",
      " ...\n",
      " [0 0 0 ... 0 0 0]\n",
      " [0 0 0 ... 0 0 0]\n",
      " [0 0 0 ... 0 0 0]]\n",
      "[[0 0 0 ... 0 0 0]\n",
      " [0 0 0 ... 0 0 0]\n",
      " [0 0 0 ... 0 0 0]\n",
      " ...\n",
      " [0 0 0 ... 0 0 0]\n",
      " [0 0 0 ... 0 0 0]\n",
      " [0 0 0 ... 1 0 0]]\n",
      "[[0 0 0 ... 0 0 0]\n",
      " [0 0 0 ... 0 0 0]\n",
      " [0 0 0 ... 0 0 0]\n",
      " ...\n",
      " [0 0 0 ... 1 0 0]\n",
      " [0 0 0 ... 1 0 0]\n",
      " [0 0 0 ... 0 0 0]]\n",
      "[[0 0 0 ... 0 0 0]\n",
      " [0 0 0 ... 0 0 0]\n",
      " [0 0 0 ... 0 0 0]\n",
      " ...\n",
      " [0 0 0 ... 0 0 0]\n",
      " [0 0 0 ... 0 0 0]\n",
      " [0 0 0 ... 1 0 0]]\n",
      "[[0 0 0 ... 0 0 0]\n",
      " [0 0 0 ... 1 0 0]\n",
      " [0 0 0 ... 0 0 0]\n",
      " ...\n",
      " [0 0 0 ... 2 0 0]\n",
      " [0 0 0 ... 1 0 0]\n",
      " [0 0 0 ... 1 1 0]]\n",
      "[[0 0 0 ... 1 0 0]\n",
      " [0 0 0 ... 1 0 0]\n",
      " [0 0 0 ... 0 0 0]\n",
      " ...\n",
      " [0 0 0 ... 0 0 0]\n",
      " [0 0 0 ... 2 0 0]\n",
      " [0 0 0 ... 0 0 0]]\n",
      "[[0 0 1 ... 0 0 0]\n",
      " [0 1 0 ... 0 0 0]\n",
      " [0 0 1 ... 0 0 0]\n",
      " ...\n",
      " [0 0 0 ... 0 0 0]\n",
      " [0 0 0 ... 0 0 0]\n",
      " [0 0 0 ... 0 0 0]]\n",
      "[[0 0 0 ... 0 0 0]\n",
      " [0 0 0 ... 0 0 0]\n",
      " [0 0 0 ... 0 0 0]\n",
      " ...\n",
      " [0 0 0 ... 0 0 0]\n",
      " [0 0 0 ... 0 0 0]\n",
      " [0 0 0 ... 0 0 0]]\n",
      "[[0 0 1 ... 0 0 0]\n",
      " [0 0 1 ... 1 0 0]\n",
      " [0 0 0 ... 3 0 0]\n",
      " ...\n",
      " [0 0 0 ... 0 0 0]\n",
      " [0 0 1 ... 0 0 0]\n",
      " [0 0 0 ... 0 0 0]]\n",
      "[[0 0 0 ... 2 0 0]\n",
      " [0 0 0 ... 0 0 0]\n",
      " [0 0 0 ... 0 0 0]\n",
      " ...\n",
      " [0 0 0 ... 3 0 0]\n",
      " [0 0 0 ... 2 2 1]\n",
      " [0 0 0 ... 2 0 0]]\n",
      "[[0 0 0 ... 2 3 1]\n",
      " [0 0 0 ... 2 0 0]\n",
      " [0 0 0 ... 0 0 0]\n",
      " ...\n",
      " [0 0 0 ... 1 2 3]\n",
      " [0 0 0 ... 2 1 0]\n",
      " [0 0 0 ... 2 2 0]]\n",
      "[[0 0 1 ... 0 0 0]\n",
      " [0 0 0 ... 0 0 0]\n",
      " [0 0 0 ... 2 0 0]\n",
      " ...\n",
      " [0 0 0 ... 0 0 0]\n",
      " [0 0 0 ... 0 0 0]\n",
      " [0 0 0 ... 2 1 1]]\n",
      "[[0 0 0 ... 3 0 1]\n",
      " [0 0 0 ... 0 0 0]\n",
      " [0 0 0 ... 1 0 0]\n",
      " ...\n",
      " [0 0 0 ... 2 1 1]\n",
      " [0 0 0 ... 2 0 0]\n",
      " [0 0 0 ... 1 0 0]]\n",
      "[[0 0 3 2 0 1 0 0 0 0]\n",
      " [0 0 0 2 3 1 0 0 0 0]\n",
      " [0 0 0 2 1 2 1 0 0 0]\n",
      " [0 0 1 2 2 1 0 0 0 0]\n",
      " [0 0 1 1 3 1 0 0 0 0]\n",
      " [0 0 0 1 1 3 1 0 0 0]\n",
      " [0 0 0 2 2 1 1 0 0 0]\n",
      " [0 0 1 1 2 2 0 0 0 0]\n",
      " [0 0 0 1 4 1 0 0 0 0]\n",
      " [0 0 1 1 4 0 0 0 0 0]\n",
      " [0 0 1 2 3 0 0 0 0 0]\n",
      " [0 0 0 2 4 0 0 0 0 0]\n",
      " [0 0 2 0 3 1 0 0 0 0]\n",
      " [0 0 1 1 3 1 0 0 0 0]\n",
      " [0 0 0 2 0 4 0 0 0 0]\n",
      " [0 0 0 1 2 3 0 0 0 0]\n",
      " [0 0 0 1 4 1 0 0 0 0]\n",
      " [0 0 0 1 3 2 0 0 0 0]\n",
      " [0 0 0 2 2 2 0 0 0 0]\n",
      " [0 0 0 2 2 2 0 0 0 0]\n",
      " [0 0 1 3 2 0 0 0 0 0]\n",
      " [0 1 1 2 2 0 0 0 0 0]\n",
      " [0 0 1 4 1 0 0 0 0 0]\n",
      " [0 0 2 2 1 1 0 0 0 0]\n",
      " [0 0 0 0 4 1 1 0 0 0]\n",
      " [0 0 0 2 2 2 0 0 0 0]\n",
      " [0 0 0 2 2 2 0 0 0 0]\n",
      " [0 0 0 1 3 2 0 0 0 0]\n",
      " [0 0 0 0 2 3 1 0 0 0]\n",
      " [0 0 0 1 3 2 0 0 0 0]\n",
      " [0 0 0 2 2 2 0 0 0 0]\n",
      " [0 0 0 2 0 4 0 0 0 0]\n",
      " [0 0 0 1 0 3 2 0 0 0]\n",
      " [0 0 0 2 1 2 1 0 0 0]\n",
      " [0 0 0 2 0 4 0 0 0 0]\n",
      " [0 0 0 2 0 1 3 0 0 0]\n",
      " [0 0 0 1 0 3 2 0 0 0]\n",
      " [0 0 0 2 0 3 1 0 0 0]\n",
      " [0 0 0 2 0 4 0 0 0 0]\n",
      " [0 0 0 1 1 3 1 0 0 0]\n",
      " [0 0 0 2 2 1 1 0 0 0]\n",
      " [0 0 0 2 0 2 2 0 0 0]\n",
      " [0 0 0 1 2 1 2 0 0 0]\n",
      " [0 0 0 2 2 2 0 0 0 0]\n",
      " [0 0 1 2 3 0 0 0 0 0]\n",
      " [0 0 0 4 2 0 0 0 0 0]\n",
      " [0 0 2 0 4 0 0 0 0 0]\n",
      " [0 0 0 2 2 2 0 0 0 0]\n",
      " [0 0 0 1 1 4 0 0 0 0]\n",
      " [0 0 0 0 1 2 3 0 0 0]\n",
      " [0 0 0 2 3 1 0 0 0 0]\n",
      " [0 0 0 2 0 4 0 0 0 0]\n",
      " [0 0 0 0 0 2 3 1 0 0]\n",
      " [0 0 0 3 1 2 0 0 0 0]\n",
      " [0 0 0 1 2 3 0 0 0 0]\n",
      " [0 0 0 2 2 2 0 0 0 0]\n",
      " [0 0 0 3 2 1 0 0 0 0]\n",
      " [0 0 1 2 2 1 0 0 0 0]\n",
      " [0 0 0 1 2 2 1 0 0 0]\n",
      " [0 0 1 2 3 0 0 0 0 0]\n",
      " [0 0 0 5 1 0 0 0 0 0]\n",
      " [0 0 0 4 2 0 0 0 0 0]\n",
      " [0 0 0 2 4 0 0 0 0 0]\n",
      " [0 0 0 0 3 3 0 0 0 0]\n",
      " [0 0 0 2 2 2 0 0 0 0]\n",
      " [0 0 0 0 1 2 3 0 0 0]\n",
      " [0 0 1 3 1 1 0 0 0 0]\n",
      " [0 0 1 3 1 1 0 0 0 0]\n",
      " [0 0 0 1 1 4 0 0 0 0]\n",
      " [0 0 0 2 1 3 0 0 0 0]\n",
      " [0 0 0 2 0 4 0 0 0 0]\n",
      " [0 0 0 1 4 1 0 0 0 0]\n",
      " [0 0 0 1 1 2 2 0 0 0]\n",
      " [0 0 1 1 1 3 0 0 0 0]\n",
      " [0 0 0 1 0 3 2 0 0 0]\n",
      " [0 0 0 0 1 3 2 0 0 0]\n",
      " [0 0 0 0 3 3 0 0 0 0]\n",
      " [0 0 0 2 1 2 1 0 0 0]\n",
      " [0 0 0 1 3 2 0 0 0 0]\n",
      " [0 0 1 2 3 0 0 0 0 0]\n",
      " [0 0 1 3 2 0 0 0 0 0]\n",
      " [0 0 1 4 1 0 0 0 0 0]\n",
      " [0 0 2 4 0 0 0 0 0 0]\n",
      " [0 0 0 0 0 3 3 0 0 0]\n",
      " [0 0 0 2 1 2 1 0 0 0]\n",
      " [0 0 0 1 2 3 0 0 0 0]]\n",
      "[[0 0 2 ... 0 0 0]\n",
      " [0 0 1 ... 0 0 0]\n",
      " [0 0 0 ... 0 0 0]\n",
      " ...\n",
      " [0 0 0 ... 0 0 0]\n",
      " [0 0 0 ... 0 0 0]\n",
      " [0 0 0 ... 0 0 0]]\n",
      "[[0 0 1 ... 0 0 0]\n",
      " [0 0 1 ... 0 0 0]\n",
      " [0 0 1 ... 0 0 0]\n",
      " ...\n",
      " [0 0 0 ... 1 0 0]\n",
      " [0 0 0 ... 0 0 0]\n",
      " [0 0 0 ... 0 0 0]]\n",
      "[[0 0 0 ... 0 0 0]\n",
      " [0 0 0 ... 0 0 0]\n",
      " [0 0 1 ... 0 0 0]\n",
      " ...\n",
      " [0 0 0 ... 0 0 0]\n",
      " [0 0 0 ... 0 0 0]\n",
      " [0 0 0 ... 1 0 0]]\n",
      "[[0 0 0 ... 1 0 0]\n",
      " [0 0 0 ... 3 0 0]\n",
      " [0 0 0 ... 0 0 0]\n",
      " ...\n",
      " [0 0 0 ... 0 0 0]\n",
      " [0 0 0 ... 0 0 0]\n",
      " [0 0 0 ... 0 0 0]]\n",
      "[[0 0 0 ... 0 0 0]\n",
      " [0 0 0 ... 0 0 0]\n",
      " [0 0 0 ... 0 0 0]\n",
      " ...\n",
      " [0 0 0 ... 0 0 0]\n",
      " [0 0 0 ... 1 0 0]\n",
      " [0 0 0 ... 0 0 0]]\n",
      "[[0 0 0 ... 1 0 0]\n",
      " [0 0 0 ... 0 0 0]\n",
      " [0 0 0 ... 0 0 0]\n",
      " ...\n",
      " [0 0 0 ... 0 0 0]\n",
      " [0 0 0 ... 2 1 0]\n",
      " [0 0 0 ... 1 3 0]]\n",
      "[[0 0 0 ... 4 1 0]\n",
      " [0 0 0 ... 1 0 0]\n",
      " [0 0 0 ... 0 0 0]\n",
      " ...\n",
      " [0 0 0 ... 0 0 0]\n",
      " [0 0 0 ... 0 0 0]\n",
      " [0 0 0 ... 0 0 0]]\n",
      "[[0 0 0 ... 1 2 1]\n",
      " [0 0 0 ... 0 0 0]\n",
      " [0 0 0 ... 0 0 0]\n",
      " ...\n",
      " [0 0 0 ... 0 0 0]\n",
      " [0 0 0 ... 2 0 0]\n",
      " [0 0 0 ... 0 0 0]]\n",
      "[[0 0 0 ... 0 0 0]\n",
      " [0 0 0 ... 0 0 0]\n",
      " [0 0 0 ... 0 0 0]\n",
      " ...\n",
      " [0 0 0 ... 0 0 0]\n",
      " [0 0 0 ... 0 0 0]\n",
      " [0 0 0 ... 0 0 0]]\n",
      "[[0 0 0 ... 1 0 0]\n",
      " [0 0 0 ... 0 0 0]\n",
      " [0 0 0 ... 0 0 0]\n",
      " ...\n",
      " [0 0 0 ... 0 0 0]\n",
      " [0 0 0 ... 0 0 0]\n",
      " [0 0 0 ... 0 0 0]]\n",
      "[[0 0 1 ... 0 0 0]\n",
      " [0 0 1 ... 0 0 0]\n",
      " [0 0 1 ... 0 0 0]\n",
      " ...\n",
      " [0 0 0 ... 0 3 2]\n",
      " [0 0 0 ... 1 4 0]\n",
      " [0 0 0 ... 1 2 0]]\n",
      "[[0 0 1 ... 0 0 0]\n",
      " [0 0 0 ... 0 0 0]\n",
      " [0 0 0 ... 0 0 0]\n",
      " ...\n",
      " [0 0 0 ... 0 0 0]\n",
      " [0 0 0 ... 0 0 0]\n",
      " [0 0 0 ... 0 0 0]]\n",
      "[[0 0 1 ... 0 0 0]\n",
      " [0 0 0 ... 0 0 0]\n",
      " [0 0 0 ... 0 0 0]\n",
      " ...\n",
      " [0 0 0 ... 0 0 0]\n",
      " [0 0 0 ... 1 0 0]\n",
      " [0 0 0 ... 1 0 0]]\n",
      "[[0 0 0 ... 3 0 0]\n",
      " [0 0 0 ... 0 0 0]\n",
      " [0 0 0 ... 0 0 0]\n",
      " ...\n",
      " [0 0 0 ... 1 0 0]\n",
      " [0 0 0 ... 1 0 0]\n",
      " [0 0 0 ... 1 0 0]]\n",
      "[[0 1 1 ... 0 0 0]\n",
      " [0 0 0 ... 0 0 0]\n",
      " [0 0 0 ... 0 0 0]\n",
      " ...\n",
      " [0 0 0 ... 0 0 0]\n",
      " [0 0 0 ... 0 0 0]\n",
      " [0 0 0 ... 0 0 0]]\n",
      "[[0 0 0 ... 0 0 0]\n",
      " [0 0 0 ... 0 0 0]\n",
      " [0 0 0 ... 0 0 0]\n",
      " ...\n",
      " [0 0 0 ... 1 0 0]\n",
      " [0 0 0 ... 1 0 0]\n",
      " [0 0 0 ... 1 0 0]]\n",
      "[[0 0 1 ... 0 0 0]\n",
      " [0 1 0 ... 0 0 0]\n",
      " [0 0 0 ... 0 0 0]\n",
      " ...\n",
      " [0 0 0 ... 1 0 0]\n",
      " [0 0 0 ... 4 0 0]\n",
      " [0 0 0 ... 3 1 1]]\n",
      "No. of interactions =  35\n",
      " Calculating for  valence  annotations ~~~~~~~, for annotators =  ['001', '002', '003', '004', '005', '006', '007', '008']\n",
      "[[0 0 0 ... 0 0 0]\n",
      " [0 0 0 ... 0 0 0]\n",
      " [0 0 0 ... 0 0 0]\n",
      " ...\n",
      " [0 0 0 ... 0 0 0]\n",
      " [0 0 0 ... 0 0 0]\n",
      " [0 0 0 ... 0 0 0]]\n",
      "[[0 0 0 ... 0 0 0]\n",
      " [0 0 0 ... 0 0 0]\n",
      " [0 0 0 ... 0 0 0]\n",
      " ...\n",
      " [0 0 0 ... 0 0 0]\n",
      " [0 0 0 ... 0 0 0]\n",
      " [0 0 0 ... 0 0 0]]\n",
      "[[0 0 0 ... 0 0 0]\n",
      " [0 0 0 ... 0 0 0]\n",
      " [0 0 0 ... 0 0 0]\n",
      " ...\n",
      " [0 0 0 ... 2 0 0]\n",
      " [0 0 0 ... 0 0 0]\n",
      " [0 0 0 ... 0 0 0]]\n",
      "[[0 0 0 ... 0 0 0]\n",
      " [0 0 0 ... 0 0 0]\n",
      " [0 0 0 ... 0 0 0]\n",
      " ...\n",
      " [0 0 0 ... 0 0 0]\n",
      " [0 0 0 ... 0 0 0]\n",
      " [0 0 0 ... 0 0 0]]\n",
      "[[0 0 0 ... 0 0 0]\n",
      " [0 0 0 ... 0 0 0]\n",
      " [0 0 1 ... 0 0 0]\n",
      " ...\n",
      " [0 0 0 ... 0 0 0]\n",
      " [0 0 0 ... 0 0 0]\n",
      " [0 0 0 ... 0 0 0]]\n",
      "[[0 0 0 ... 0 0 0]\n",
      " [0 0 0 ... 0 0 0]\n",
      " [0 0 0 ... 0 0 0]\n",
      " ...\n",
      " [0 0 0 ... 0 0 0]\n",
      " [0 0 0 ... 0 0 0]\n",
      " [0 0 0 ... 1 0 0]]\n",
      "[[0 0 0 ... 0 0 0]\n",
      " [0 0 0 ... 2 0 0]\n",
      " [0 0 0 ... 0 0 0]\n",
      " ...\n",
      " [0 0 0 ... 0 0 0]\n",
      " [0 0 0 ... 0 0 0]\n",
      " [0 0 0 ... 0 0 0]]\n",
      "[[0 0 0 ... 0 0 0]\n",
      " [0 0 0 ... 0 0 0]\n",
      " [0 0 0 ... 0 0 0]\n",
      " ...\n",
      " [0 0 0 ... 0 0 0]\n",
      " [0 0 0 ... 0 0 0]\n",
      " [0 0 0 ... 2 0 0]]\n",
      "[[0 0 0 ... 1 0 0]\n",
      " [0 0 0 ... 1 0 0]\n",
      " [0 0 0 ... 0 0 0]\n",
      " ...\n",
      " [0 0 0 ... 2 0 0]\n",
      " [0 0 0 ... 0 0 0]\n",
      " [0 0 0 ... 2 0 0]]\n",
      "[[0 0 0 ... 0 0 0]\n",
      " [0 0 0 ... 0 0 0]\n",
      " [0 0 0 ... 1 0 0]\n",
      " ...\n",
      " [0 0 0 ... 0 0 0]\n",
      " [0 0 0 ... 0 0 0]\n",
      " [0 0 0 ... 2 0 0]]\n",
      "[[0 0 0 ... 0 0 0]\n",
      " [0 0 0 ... 0 0 0]\n",
      " [0 0 0 ... 0 0 0]\n",
      " ...\n",
      " [0 0 0 ... 0 0 0]\n",
      " [0 0 0 ... 0 0 0]\n",
      " [0 0 0 ... 0 0 0]]\n",
      "[[0 0 0 ... 0 0 0]\n",
      " [0 0 0 ... 1 0 0]\n",
      " [0 0 0 ... 0 0 0]\n",
      " ...\n",
      " [0 0 0 ... 0 0 0]\n",
      " [0 0 0 ... 0 0 0]\n",
      " [0 0 0 ... 0 0 0]]\n",
      "[[0 0 0 ... 1 0 0]\n",
      " [0 0 0 ... 3 0 0]\n",
      " [0 0 0 ... 2 0 0]\n",
      " ...\n",
      " [0 0 0 ... 0 0 0]\n",
      " [0 0 0 ... 0 0 0]\n",
      " [0 0 1 ... 0 0 0]]\n",
      "[[0 0 0 ... 2 0 0]\n",
      " [0 0 0 ... 0 0 0]\n",
      " [0 0 0 ... 0 0 0]\n",
      " ...\n",
      " [0 0 0 ... 1 0 0]\n",
      " [0 0 0 ... 3 1 1]\n",
      " [0 0 0 ... 3 0 0]]\n",
      "[[0 0 0 ... 2 2 1]\n",
      " [0 0 0 ... 2 0 0]\n",
      " [0 0 0 ... 0 0 0]\n",
      " ...\n",
      " [0 0 0 ... 2 3 1]\n",
      " [0 0 0 ... 2 0 0]\n",
      " [0 0 0 ... 1 2 0]]\n",
      "[[0 0 0 ... 0 0 0]\n",
      " [0 0 0 ... 0 0 0]\n",
      " [0 0 0 ... 0 1 0]\n",
      " ...\n",
      " [0 0 0 ... 0 0 0]\n",
      " [0 0 0 ... 0 0 0]\n",
      " [0 0 0 ... 2 1 1]]\n",
      "[[0 0 0 ... 2 0 1]\n",
      " [0 0 0 ... 1 0 0]\n",
      " [0 0 0 ... 1 0 0]\n",
      " ...\n",
      " [0 0 0 ... 2 3 0]\n",
      " [0 0 0 ... 1 0 0]\n",
      " [0 0 0 ... 1 0 0]]\n",
      "[[0 0 0 0 1 5 0 0 0 0]\n",
      " [0 0 0 0 1 3 2 0 0 0]\n",
      " [0 0 0 0 0 2 4 0 0 0]\n",
      " [0 0 0 0 0 6 0 0 0 0]\n",
      " [0 0 0 0 1 5 0 0 0 0]\n",
      " [0 0 0 0 0 1 4 1 0 0]\n",
      " [0 0 0 0 0 5 1 0 0 0]\n",
      " [0 0 0 0 1 4 1 0 0 0]\n",
      " [0 0 0 0 1 4 1 0 0 0]\n",
      " [0 0 0 1 0 5 0 0 0 0]\n",
      " [0 0 0 1 1 2 2 0 0 0]\n",
      " [0 0 0 0 2 2 2 0 0 0]\n",
      " [0 0 0 0 1 5 0 0 0 0]\n",
      " [0 0 0 1 0 5 0 0 0 0]\n",
      " [0 0 0 0 1 2 3 0 0 0]\n",
      " [0 0 0 0 0 5 1 0 0 0]\n",
      " [0 0 0 0 1 4 1 0 0 0]\n",
      " [0 0 0 0 1 2 3 0 0 0]\n",
      " [0 0 0 0 1 2 3 0 0 0]\n",
      " [0 0 0 0 0 3 3 0 0 0]\n",
      " [0 0 0 0 0 4 2 0 0 0]\n",
      " [0 0 0 0 1 5 0 0 0 0]\n",
      " [0 0 0 1 1 4 0 0 0 0]\n",
      " [0 0 0 1 2 3 0 0 0 0]\n",
      " [0 0 0 0 0 3 3 0 0 0]\n",
      " [0 0 0 0 3 3 0 0 0 0]\n",
      " [0 0 0 2 3 1 0 0 0 0]\n",
      " [0 0 0 0 0 5 1 0 0 0]\n",
      " [0 0 0 0 0 3 3 0 0 0]\n",
      " [0 0 0 0 4 2 0 0 0 0]\n",
      " [0 0 0 2 1 3 0 0 0 0]\n",
      " [0 0 0 1 1 3 1 0 0 0]\n",
      " [0 0 0 0 0 3 2 1 0 0]\n",
      " [0 0 0 0 0 5 1 0 0 0]\n",
      " [0 0 0 0 2 3 1 0 0 0]\n",
      " [0 0 0 1 1 3 1 0 0 0]\n",
      " [0 0 0 0 1 2 3 0 0 0]\n",
      " [0 0 0 1 0 4 1 0 0 0]\n",
      " [0 0 0 1 0 4 1 0 0 0]\n",
      " [0 0 0 1 1 4 0 0 0 0]\n",
      " [0 0 0 1 0 5 0 0 0 0]\n",
      " [0 0 0 1 1 4 0 0 0 0]\n",
      " [0 0 0 0 3 3 0 0 0 0]\n",
      " [0 0 0 0 0 6 0 0 0 0]\n",
      " [0 0 0 0 1 5 0 0 0 0]\n",
      " [0 0 0 1 3 2 0 0 0 0]\n",
      " [0 0 0 0 2 4 0 0 0 0]\n",
      " [0 0 0 2 4 0 0 0 0 0]\n",
      " [0 0 1 2 2 1 0 0 0 0]\n",
      " [0 0 0 0 1 4 1 0 0 0]\n",
      " [0 0 0 0 0 6 0 0 0 0]\n",
      " [0 0 0 0 2 4 0 0 0 0]\n",
      " [0 0 0 0 0 0 5 1 0 0]\n",
      " [0 0 0 0 0 6 0 0 0 0]\n",
      " [0 0 0 0 1 4 1 0 0 0]\n",
      " [0 0 0 0 5 1 0 0 0 0]\n",
      " [0 0 0 0 4 2 0 0 0 0]\n",
      " [0 0 0 0 2 4 0 0 0 0]\n",
      " [0 0 0 0 0 6 0 0 0 0]\n",
      " [0 0 0 0 2 4 0 0 0 0]\n",
      " [0 0 0 1 2 3 0 0 0 0]\n",
      " [0 0 0 1 1 4 0 0 0 0]\n",
      " [0 0 0 1 0 5 0 0 0 0]\n",
      " [0 0 0 0 1 5 0 0 0 0]\n",
      " [0 0 0 0 4 2 0 0 0 0]\n",
      " [0 0 0 0 0 1 4 1 0 0]\n",
      " [0 0 0 0 0 6 0 0 0 0]\n",
      " [0 0 0 0 1 5 0 0 0 0]\n",
      " [0 0 0 0 0 5 1 0 0 0]\n",
      " [0 0 0 0 0 6 0 0 0 0]\n",
      " [0 0 0 0 2 4 0 0 0 0]\n",
      " [0 0 0 0 2 4 0 0 0 0]\n",
      " [0 0 0 0 1 4 1 0 0 0]\n",
      " [0 0 0 0 5 1 0 0 0 0]\n",
      " [0 0 0 0 0 3 3 0 0 0]\n",
      " [0 0 0 0 0 2 4 0 0 0]\n",
      " [0 0 0 0 0 6 0 0 0 0]\n",
      " [0 0 0 0 1 5 0 0 0 0]\n",
      " [0 0 0 1 1 4 0 0 0 0]\n",
      " [0 0 0 1 3 2 0 0 0 0]\n",
      " [0 0 0 1 2 3 0 0 0 0]\n",
      " [0 0 0 1 1 4 0 0 0 0]\n",
      " [0 0 0 1 2 3 0 0 0 0]\n",
      " [0 0 0 0 0 2 4 0 0 0]\n",
      " [0 0 0 0 3 3 0 0 0 0]\n",
      " [0 0 0 0 0 6 0 0 0 0]]\n",
      "[[0 0 0 ... 0 0 0]\n",
      " [0 0 0 ... 0 0 0]\n",
      " [0 0 0 ... 0 0 0]\n",
      " ...\n",
      " [0 0 0 ... 0 0 0]\n",
      " [0 0 0 ... 0 0 0]\n",
      " [0 0 0 ... 0 0 0]]\n",
      "[[0 0 0 ... 0 0 0]\n",
      " [0 0 0 ... 0 0 0]\n",
      " [0 0 0 ... 0 0 0]\n",
      " ...\n",
      " [0 0 0 ... 1 1 0]\n",
      " [0 0 0 ... 1 0 0]\n",
      " [0 0 0 ... 0 0 0]]\n",
      "[[0 0 0 ... 0 0 0]\n",
      " [0 0 0 ... 0 0 0]\n",
      " [0 0 0 ... 0 0 0]\n",
      " ...\n",
      " [0 0 0 ... 0 0 0]\n",
      " [0 0 0 ... 0 0 0]\n",
      " [0 1 0 ... 0 0 0]]\n",
      "[[0 0 0 ... 0 0 0]\n",
      " [0 0 0 ... 4 0 0]\n",
      " [0 0 0 ... 0 0 0]\n",
      " ...\n",
      " [0 0 0 ... 0 0 0]\n",
      " [0 0 0 ... 0 0 0]\n",
      " [0 0 0 ... 0 0 0]]\n",
      "[[0 0 0 ... 0 0 0]\n",
      " [0 0 0 ... 0 0 0]\n",
      " [0 0 0 ... 0 0 0]\n",
      " ...\n",
      " [0 0 0 ... 0 0 0]\n",
      " [0 0 0 ... 2 0 0]\n",
      " [0 0 0 ... 0 0 0]]\n",
      "[[0 0 0 ... 0 0 0]\n",
      " [0 0 0 ... 1 0 0]\n",
      " [0 0 0 ... 0 0 0]\n",
      " ...\n",
      " [0 0 0 ... 0 0 0]\n",
      " [0 0 0 ... 2 2 0]\n",
      " [0 0 0 ... 2 1 1]]\n",
      "[[0 0 0 ... 3 1 0]\n",
      " [0 0 0 ... 0 0 0]\n",
      " [0 0 1 ... 0 0 0]\n",
      " ...\n",
      " [0 0 0 ... 0 0 0]\n",
      " [0 0 0 ... 0 0 0]\n",
      " [0 0 0 ... 0 0 0]]\n",
      "[[0 0 0 ... 1 2 1]\n",
      " [0 0 0 ... 0 0 0]\n",
      " [0 0 0 ... 0 0 0]\n",
      " ...\n",
      " [0 0 0 ... 0 0 0]\n",
      " [0 0 0 ... 1 1 0]\n",
      " [0 0 0 ... 0 0 0]]\n",
      "[[0 0 0 ... 0 0 0]\n",
      " [0 0 0 ... 0 0 0]\n",
      " [0 0 0 ... 0 0 0]\n",
      " ...\n",
      " [0 0 0 ... 0 0 0]\n",
      " [0 0 0 ... 1 0 0]\n",
      " [0 0 0 ... 0 0 0]]\n",
      "[[0 0 0 ... 4 0 0]\n",
      " [0 0 0 ... 1 0 0]\n",
      " [0 0 0 ... 0 0 0]\n",
      " ...\n",
      " [0 0 0 ... 0 0 0]\n",
      " [0 0 1 ... 0 0 0]\n",
      " [0 0 1 ... 0 0 0]]\n",
      "[[0 0 0 ... 0 0 0]\n",
      " [0 0 0 ... 0 0 0]\n",
      " [0 0 0 ... 0 0 0]\n",
      " ...\n",
      " [0 0 0 ... 1 3 1]\n",
      " [0 0 0 ... 3 2 0]\n",
      " [0 0 0 ... 3 0 0]]\n",
      "[[0 0 0 ... 0 0 0]\n",
      " [0 0 0 ... 0 0 0]\n",
      " [0 0 0 ... 0 0 0]\n",
      " ...\n",
      " [0 0 0 ... 0 0 0]\n",
      " [0 0 1 ... 0 0 0]\n",
      " [0 0 0 ... 0 0 0]]\n",
      "[[0 0 0 ... 0 0 0]\n",
      " [0 0 0 ... 0 0 0]\n",
      " [0 0 0 ... 0 0 0]\n",
      " ...\n",
      " [0 0 0 ... 0 0 0]\n",
      " [0 0 0 ... 0 0 0]\n",
      " [0 0 0 ... 0 0 0]]\n",
      "[[0 0 0 ... 1 0 1]\n",
      " [0 0 0 ... 1 0 0]\n",
      " [0 0 0 ... 0 0 0]\n",
      " ...\n",
      " [0 0 0 ... 0 0 0]\n",
      " [0 0 0 ... 0 0 0]\n",
      " [0 0 0 ... 2 0 0]]\n",
      "[[0 0 0 ... 0 0 0]\n",
      " [0 0 0 ... 0 0 0]\n",
      " [0 0 0 ... 1 0 0]\n",
      " ...\n",
      " [0 0 0 ... 0 0 0]\n",
      " [0 0 0 ... 0 0 0]\n",
      " [0 0 0 ... 0 0 0]]\n",
      "[[0 0 0 ... 0 0 0]\n",
      " [0 0 0 ... 0 0 0]\n",
      " [0 0 0 ... 0 0 0]\n",
      " ...\n",
      " [0 0 0 ... 0 0 0]\n",
      " [0 0 0 ... 0 0 0]\n",
      " [0 0 0 ... 1 0 0]]\n",
      "[[0 0 0 ... 0 0 0]\n",
      " [0 0 0 ... 0 0 0]\n",
      " [0 0 0 ... 1 0 0]\n",
      " ...\n",
      " [0 0 0 ... 4 0 0]\n",
      " [0 0 0 ... 4 0 0]\n",
      " [0 0 0 ... 2 3 0]]\n",
      "No. of interactions =  35\n"
     ]
    },
    {
     "data": {
      "text/plain": [
       "True"
      ]
     },
     "execution_count": 13,
     "metadata": {},
     "output_type": "execute_result"
    }
   ],
   "source": [
    "calc_fleiss_agreement_for_MEMO(memodb, \"fleiss\", submode_fleiss)"
   ]
  },
  {
   "cell_type": "markdown",
   "metadata": {},
   "source": [
    "#### %%%%%%%%%%%%%%%%%%%%%%%%%%%%%%%%%%%%%%%%%%%"
   ]
  },
  {
   "cell_type": "markdown",
   "metadata": {},
   "source": [
    "# Pearson's Correlation\n"
   ]
  },
  {
   "cell_type": "markdown",
   "metadata": {},
   "source": [
    "## Interaction & Annotator Pairs -wise - Save seperately"
   ]
  },
  {
   "cell_type": "code",
   "execution_count": 14,
   "metadata": {},
   "outputs": [
    {
     "name": "stdout",
     "output_type": "stream",
     "text": [
      " Calculating for  arousal  annotations ~~~~~~~, for annotators =  ['001', '002', '003', '004', '005', '006', '007', '008']\n",
      "Index(['001_002', '001_003', '001_004', '001_005', '001_006', '001_007',\n",
      "       '001_008', '002_003', '002_004', '002_005', '002_006', '002_007',\n",
      "       '002_008', '003_004', '003_005', '003_006', '003_007', '003_008',\n",
      "       '004_005', '004_006', '004_007', '004_008', '005_006', '005_007',\n",
      "       '005_008', '006_007', '006_008', '007_008', 'interactionID',\n",
      "       'average_pearson', '004_001', '004_002', '004_003'],\n",
      "      dtype='object')\n",
      "(35, 33)\n",
      "No. of interactions =  35\n",
      " Calculating for  valence  annotations ~~~~~~~, for annotators =  ['001', '002', '003', '004', '005', '006', '007', '008']\n",
      "Index(['001_002', '001_003', '001_004', '001_005', '001_006', '001_007',\n",
      "       '001_008', '002_003', '002_004', '002_005', '002_006', '002_007',\n",
      "       '002_008', '003_004', '003_005', '003_006', '003_007', '003_008',\n",
      "       '004_005', '004_006', '004_007', '004_008', '005_006', '005_007',\n",
      "       '005_008', '006_007', '006_008', '007_008', 'interactionID',\n",
      "       'average_pearson', '004_001', '004_002', '004_003'],\n",
      "      dtype='object')\n",
      "(35, 33)\n",
      "No. of interactions =  35\n"
     ]
    },
    {
     "data": {
      "text/plain": [
       "True"
      ]
     },
     "execution_count": 14,
     "metadata": {},
     "output_type": "execute_result"
    }
   ],
   "source": [
    "calc_agreement_for_MEMO(memodb, 'pearson', submode_cohen)"
   ]
  },
  {
   "cell_type": "code",
   "execution_count": 15,
   "metadata": {},
   "outputs": [
    {
     "name": "stdout",
     "output_type": "stream",
     "text": [
      " Calculating for  arousal  annotations ~~~~~~~, for annotators =  ['001', '002', '004', '005', '006', '007', '008']\n",
      "Index(['001_002', '001_004', '001_005', '001_006', '001_007', '001_008',\n",
      "       '002_004', '002_005', '002_006', '002_007', '002_008', '004_005',\n",
      "       '004_006', '004_007', '004_008', '005_006', '005_007', '005_008',\n",
      "       '006_007', '006_008', '007_008', 'interactionID', 'average_pearson',\n",
      "       '004_001', '004_002'],\n",
      "      dtype='object')\n",
      "(35, 25)\n",
      "No. of interactions =  35\n",
      " Calculating for  valence  annotations ~~~~~~~, for annotators =  ['001', '002', '003', '004', '005', '007', '008']\n",
      "Index(['001_002', '001_003', '001_004', '001_005', '001_007', '001_008',\n",
      "       '002_003', '002_004', '002_005', '002_007', '002_008', '003_004',\n",
      "       '003_005', '003_007', '003_008', '004_005', '004_007', '004_008',\n",
      "       '005_007', '005_008', '007_008', 'interactionID', 'average_pearson',\n",
      "       '004_001', '004_002', '004_003'],\n",
      "      dtype='object')\n",
      "(35, 26)\n",
      "No. of interactions =  35\n"
     ]
    },
    {
     "data": {
      "text/plain": [
       "True"
      ]
     },
     "execution_count": 15,
     "metadata": {},
     "output_type": "execute_result"
    }
   ],
   "source": [
    "calc_agreement_for_MEMO(memodb, 'pearson', submode_cohen, best5=True)"
   ]
  },
  {
   "cell_type": "markdown",
   "metadata": {},
   "source": [
    "## Pairwise Confusion Matrix"
   ]
  },
  {
   "cell_type": "code",
   "execution_count": 16,
   "metadata": {},
   "outputs": [
    {
     "name": "stdout",
     "output_type": "stream",
     "text": [
      "\n",
      "\n",
      "Emotion Dimension =  arousal\n",
      "     0   001   002   003   004   005   006   007   008\n",
      "0  001  0.00  0.60  0.00  0.57  0.46  0.57  0.59  0.56\n",
      "1  002  0.60  0.00  0.44  0.54  0.55  0.51  0.51  0.54\n",
      "2  003  0.00  0.44  0.00  0.44  0.45  0.45  0.42  0.52\n",
      "3  004  0.57  0.54  0.44  0.00  0.49  0.50  0.42  0.56\n",
      "4  005  0.46  0.55  0.45  0.49  0.00  0.50  0.44  0.00\n",
      "5  006  0.57  0.51  0.45  0.50  0.50  0.00  0.49  0.52\n",
      "6  007  0.59  0.51  0.42  0.42  0.44  0.49  0.00  0.65\n",
      "7  008  0.56  0.54  0.52  0.56  0.00  0.52  0.65  0.00\n",
      "8  NaN  0.56  0.53  0.45  0.50  0.48  0.51  0.50  0.56\n",
      "\n",
      "\n",
      "Emotion Dimension =  valence\n",
      "     0   001   002   003   004   005   006   007   008\n",
      "0  001  0.00  0.64  0.00  0.57  0.73  0.56  0.76  0.57\n",
      "1  002  0.64  0.00  0.66  0.68  0.67  0.60  0.68  0.63\n",
      "2  003  0.00  0.66  0.00  0.63  0.56  0.52  0.63  0.61\n",
      "3  004  0.57  0.68  0.63  0.00  0.69  0.64  0.64  0.65\n",
      "4  005  0.73  0.67  0.56  0.69  0.00  0.65  0.70  0.00\n",
      "5  006  0.56  0.60  0.52  0.64  0.65  0.00  0.61  0.58\n",
      "6  007  0.76  0.68  0.63  0.64  0.70  0.61  0.00  0.57\n",
      "7  008  0.57  0.63  0.61  0.65  0.00  0.58  0.57  0.00\n",
      "8  NaN  0.64  0.65  0.60  0.64  0.67  0.59  0.66  0.60\n"
     ]
    }
   ],
   "source": [
    "calculate_parirwise_agreement_confmatrix(memodb, 'pearson', 'pearson')"
   ]
  },
  {
   "cell_type": "markdown",
   "metadata": {},
   "source": [
    "#### %%%%%%%%%%%%%%%%%%%%%%%%%%%%%%%%%%%%%%%%%%%"
   ]
  },
  {
   "cell_type": "markdown",
   "metadata": {},
   "source": [
    "# Kendall's Rank Correlation\n"
   ]
  },
  {
   "cell_type": "markdown",
   "metadata": {},
   "source": [
    "## Interaction & Annotator Pairs -wise - Save seperately"
   ]
  },
  {
   "cell_type": "code",
   "execution_count": 17,
   "metadata": {},
   "outputs": [
    {
     "name": "stdout",
     "output_type": "stream",
     "text": [
      " Calculating for  arousal  annotations ~~~~~~~, for annotators =  ['001', '002', '003', '004', '005', '006', '007', '008']\n",
      "Index(['001_002', '001_003', '001_004', '001_005', '001_006', '001_007',\n",
      "       '001_008', '002_003', '002_004', '002_005', '002_006', '002_007',\n",
      "       '002_008', '003_004', '003_005', '003_006', '003_007', '003_008',\n",
      "       '004_005', '004_006', '004_007', '004_008', '005_006', '005_007',\n",
      "       '005_008', '006_007', '006_008', '007_008', 'interactionID',\n",
      "       'average_kendal_rank', '004_001', '004_002', '004_003'],\n",
      "      dtype='object')\n",
      "(35, 33)\n",
      "No. of interactions =  35\n",
      " Calculating for  valence  annotations ~~~~~~~, for annotators =  ['001', '002', '003', '004', '005', '006', '007', '008']\n",
      "Index(['001_002', '001_003', '001_004', '001_005', '001_006', '001_007',\n",
      "       '001_008', '002_003', '002_004', '002_005', '002_006', '002_007',\n",
      "       '002_008', '003_004', '003_005', '003_006', '003_007', '003_008',\n",
      "       '004_005', '004_006', '004_007', '004_008', '005_006', '005_007',\n",
      "       '005_008', '006_007', '006_008', '007_008', 'interactionID',\n",
      "       'average_kendal_rank', '004_001', '004_002', '004_003'],\n",
      "      dtype='object')\n",
      "(35, 33)\n",
      "No. of interactions =  35\n"
     ]
    },
    {
     "data": {
      "text/plain": [
       "True"
      ]
     },
     "execution_count": 17,
     "metadata": {},
     "output_type": "execute_result"
    }
   ],
   "source": [
    "calc_agreement_for_MEMO(memodb, 'kendal_rank', submode_cohen)"
   ]
  },
  {
   "cell_type": "code",
   "execution_count": 18,
   "metadata": {},
   "outputs": [
    {
     "name": "stdout",
     "output_type": "stream",
     "text": [
      " Calculating for  arousal  annotations ~~~~~~~, for annotators =  ['001', '002', '004', '005', '006', '007', '008']\n",
      "Index(['001_002', '001_004', '001_005', '001_006', '001_007', '001_008',\n",
      "       '002_004', '002_005', '002_006', '002_007', '002_008', '004_005',\n",
      "       '004_006', '004_007', '004_008', '005_006', '005_007', '005_008',\n",
      "       '006_007', '006_008', '007_008', 'interactionID', 'average_kendal_rank',\n",
      "       '004_001', '004_002'],\n",
      "      dtype='object')\n",
      "(35, 25)\n",
      "No. of interactions =  35\n",
      " Calculating for  valence  annotations ~~~~~~~, for annotators =  ['001', '002', '003', '004', '005', '007', '008']\n",
      "Index(['001_002', '001_003', '001_004', '001_005', '001_007', '001_008',\n",
      "       '002_003', '002_004', '002_005', '002_007', '002_008', '003_004',\n",
      "       '003_005', '003_007', '003_008', '004_005', '004_007', '004_008',\n",
      "       '005_007', '005_008', '007_008', 'interactionID', 'average_kendal_rank',\n",
      "       '004_001', '004_002', '004_003'],\n",
      "      dtype='object')\n",
      "(35, 26)\n",
      "No. of interactions =  35\n"
     ]
    },
    {
     "data": {
      "text/plain": [
       "True"
      ]
     },
     "execution_count": 18,
     "metadata": {},
     "output_type": "execute_result"
    }
   ],
   "source": [
    "calc_agreement_for_MEMO(memodb, 'kendal_rank', submode_cohen, best5=True)"
   ]
  },
  {
   "cell_type": "markdown",
   "metadata": {},
   "source": [
    "## Pairwise Confusion Matrix"
   ]
  },
  {
   "cell_type": "code",
   "execution_count": 19,
   "metadata": {},
   "outputs": [
    {
     "name": "stdout",
     "output_type": "stream",
     "text": [
      "\n",
      "\n",
      "Emotion Dimension =  arousal\n",
      "     0   001   002   003   004   005   006   007   008\n",
      "0  001  0.00  0.52  0.00  0.48  0.40  0.49  0.52  0.48\n",
      "1  002  0.52  0.00  0.36  0.45  0.46  0.44  0.45  0.46\n",
      "2  003  0.00  0.36  0.00  0.35  0.35  0.38  0.34  0.45\n",
      "3  004  0.48  0.45  0.35  0.00  0.39  0.42  0.34  0.47\n",
      "4  005  0.40  0.46  0.35  0.39  0.00  0.42  0.36  0.00\n",
      "5  006  0.49  0.44  0.38  0.42  0.42  0.00  0.41  0.45\n",
      "6  007  0.52  0.45  0.34  0.34  0.36  0.41  0.00  0.57\n",
      "7  008  0.48  0.46  0.45  0.47  0.00  0.45  0.57  0.00\n",
      "8  NaN  0.48  0.45  0.37  0.41  0.40  0.43  0.43  0.48\n",
      "\n",
      "\n",
      "Emotion Dimension =  valence\n",
      "     0   001   002   003   004   005   006   007   008\n",
      "0  001  0.00  0.56  0.00  0.48  0.65  0.49  0.69  0.50\n",
      "1  002  0.56  0.00  0.57  0.58  0.58  0.52  0.58  0.55\n",
      "2  003  0.00  0.57  0.00  0.54  0.48  0.45  0.54  0.55\n",
      "3  004  0.48  0.58  0.54  0.00  0.61  0.56  0.54  0.58\n",
      "4  005  0.65  0.58  0.48  0.61  0.00  0.58  0.63  0.00\n",
      "5  006  0.49  0.52  0.45  0.56  0.58  0.00  0.54  0.52\n",
      "6  007  0.69  0.58  0.54  0.54  0.63  0.54  0.00  0.51\n",
      "7  008  0.50  0.55  0.55  0.58  0.00  0.52  0.51  0.00\n",
      "8  NaN  0.56  0.56  0.52  0.56  0.59  0.52  0.58  0.54\n"
     ]
    }
   ],
   "source": [
    "calculate_parirwise_agreement_confmatrix(memodb, 'kendal_rank', 'kendal_rank')"
   ]
  },
  {
   "cell_type": "markdown",
   "metadata": {},
   "source": [
    "#### %%%%%%%%%%%%%%%%%%%%%%%%%%%%%%%%%%%%%%%%%%%"
   ]
  },
  {
   "cell_type": "code",
   "execution_count": 7,
   "metadata": {},
   "outputs": [],
   "source": [
    "import matplotlib.pyplot as plt"
   ]
  },
  {
   "cell_type": "code",
   "execution_count": 20,
   "metadata": {},
   "outputs": [],
   "source": [
    "metric = \"abs\""
   ]
  },
  {
   "cell_type": "code",
   "execution_count": 31,
   "metadata": {},
   "outputs": [
    {
     "name": "stdout",
     "output_type": "stream",
     "text": [
      " Calculating for  arousal  annotations ~~~~~~~, for annotators =  ['001', '002', '003', '004', '005', '006', '007', '008']\n"
     ]
    },
    {
     "data": {
      "image/png": "[encoded data removed]",
      "text/plain": [
       "<Figure size 432x288 with 1 Axes>"
      ]
     },
     "metadata": {
      "needs_background": "light"
     },
     "output_type": "display_data"
    },
    {
     "data": {
      "image/png": "[encoded data removed]",
      "text/plain": [
       "<Figure size 432x288 with 1 Axes>"
      ]
     },
     "metadata": {
      "needs_background": "light"
     },
     "output_type": "display_data"
    }
   ],
   "source": [
    "samplewise_aggreement_df = calc_samplewise_agreement_for_MEMO(\"arousal\", mode=metric)\n",
    "\n",
    "plt.hist2d(samplewise_aggreement_df[\"arousal\"], samplewise_aggreement_df[metric], bins=10)\n",
    "\n",
    "plt.xlabel(\"Group Affect - arousal\")\n",
    "plt.ylabel(metric + \" agreement\")\n",
    "plt.show()\n",
    "\n",
    "plt.scatter(samplewise_aggreement_df[\"arousal\"], samplewise_aggreement_df[metric])\n",
    "\n",
    "plt.xlabel(\"Group Affect - arousal\")\n",
    "plt.ylabel(metric + \" agreement\")\n",
    "plt.show()"
   ]
  },
  {
   "cell_type": "code",
   "execution_count": 7,
   "metadata": {},
   "outputs": [
    {
     "ename": "NameError",
     "evalue": "name 'metric' is not defined",
     "output_type": "error",
     "traceback": [
      "\u001b[0;31m---------------------------------------------------------------------------\u001b[0m",
      "\u001b[0;31mNameError\u001b[0m                                 Traceback (most recent call last)",
      "\u001b[0;32m<ipython-input-7-56ca377cb9a4>\u001b[0m in \u001b[0;36m<module>\u001b[0;34m\u001b[0m\n\u001b[0;32m----> 1\u001b[0;31m \u001b[0msamplewise_aggreement_df\u001b[0m \u001b[0;34m=\u001b[0m \u001b[0mcalc_samplewise_agreement_for_MEMO\u001b[0m\u001b[0;34m(\u001b[0m\u001b[0;34m\"valence\"\u001b[0m\u001b[0;34m,\u001b[0m \u001b[0mmode\u001b[0m\u001b[0;34m=\u001b[0m\u001b[0mmetric\u001b[0m\u001b[0;34m)\u001b[0m\u001b[0;34m\u001b[0m\u001b[0;34m\u001b[0m\u001b[0m\n\u001b[0m\u001b[1;32m      2\u001b[0m \u001b[0;34m\u001b[0m\u001b[0m\n\u001b[1;32m      3\u001b[0m \u001b[0mplt\u001b[0m\u001b[0;34m.\u001b[0m\u001b[0mhist2d\u001b[0m\u001b[0;34m(\u001b[0m\u001b[0msamplewise_aggreement_df\u001b[0m\u001b[0;34m[\u001b[0m\u001b[0;34m\"valence\"\u001b[0m\u001b[0;34m]\u001b[0m\u001b[0;34m,\u001b[0m \u001b[0msamplewise_aggreement_df\u001b[0m\u001b[0;34m[\u001b[0m\u001b[0mmetric\u001b[0m\u001b[0;34m]\u001b[0m\u001b[0;34m,\u001b[0m \u001b[0mbins\u001b[0m\u001b[0;34m=\u001b[0m\u001b[0;36m10\u001b[0m\u001b[0;34m)\u001b[0m\u001b[0;34m\u001b[0m\u001b[0;34m\u001b[0m\u001b[0m\n\u001b[1;32m      4\u001b[0m \u001b[0;34m\u001b[0m\u001b[0m\n\u001b[1;32m      5\u001b[0m \u001b[0mplt\u001b[0m\u001b[0;34m.\u001b[0m\u001b[0mxlabel\u001b[0m\u001b[0;34m(\u001b[0m\u001b[0;34m\"Group Affect - valence\"\u001b[0m\u001b[0;34m)\u001b[0m\u001b[0;34m\u001b[0m\u001b[0;34m\u001b[0m\u001b[0m\n",
      "\u001b[0;31mNameError\u001b[0m: name 'metric' is not defined"
     ]
    }
   ],
   "source": [
    "samplewise_aggreement_df = calc_samplewise_agreement_for_MEMO(\"valence\", mode=metric)\n",
    "\n",
    "plt.hist2d(samplewise_aggreement_df[\"valence\"], samplewise_aggreement_df[metric], bins=10)\n",
    "\n",
    "plt.xlabel(\"Group Affect - valence\")\n",
    "plt.ylabel(metric + \" agreement\")\n",
    "plt.show()\n",
    "\n",
    "plt.scatter(samplewise_aggreement_df[\"valence\"], samplewise_aggreement_df[metric])\n",
    "\n",
    "plt.xlabel(\"Group Affect - valence\")\n",
    "plt.ylabel(metric + \" agreement\")\n",
    "plt.show()"
   ]
  },
  {
   "cell_type": "code",
   "execution_count": 9,
   "metadata": {},
   "outputs": [
    {
     "name": "stdout",
     "output_type": "stream",
     "text": [
      "{'Arousal_004': 0.6462447382929727, 'Arousal_001': 0.693123502800838, 'Arousal_002': 0.6290303498980638, 'Arousal_006': 0.6774209189202058, 'Arousal_007': 0.6796928411341413}\n",
      "Mean:  [4.  3.6 2.8 2.8 3.  5.4 3.  3.2 4.2 4.4 4.4 4.6 3.8 3.4 3.6 4.4 4.  3.8\n",
      " 4.6 5.2 5.6 6.4 4.6 4.8 5.2 4.4 4.  6.2 5.2 4.2 4.2 4.6 4.4 4.2 4.8 3.8\n",
      " 4.2 3.4 4.6 3.4 3.4 3.6 3.8 4.2 4.  5.  5.2 5.  3.8 4.6 4.  4.  4.2 4.6\n",
      " 4.4 4.4 5.  5.2 4.6 4.8 4.4 5.  4.  3.8 5.4 6.4 4.2 5.  4.  3.8 4.4 4.8\n",
      " 3.8 4.4 4.4 5.6 5.6 4.4 5.4 4.8 4.2 4.  4.4 4.  5.6 4.6 6.2 5.4 4.8 4.8\n",
      " 5.2 5.4 5.4 4.6 3.6 4.4 4.4 4.6 6.2 5.8 4.2 4.2 4.  3.8 4.  4.  3.6 4.4\n",
      " 3.6 3.6 3.6 3.2 6.6 5.2 6.4 5.2 7.4 5.2 5.8 5.6 5.4 5.6 5.2 6.4 5.2 4.4\n",
      " 4.2 5.  4.8 4.8 5.  4.8 4.2 4.6 4.  3.8 3.6 4.8 4.6 4.6 4.2 4.6 6.8 5.8\n",
      " 7.  7.4 6.2 7.  6.6 6.6 6.8 5.8 5.6 6.4 5.4 5.4 5.  4.8 7.4 7.  6.  6.6\n",
      " 6.4 4.8 4.2 4.2 4.4 5.4 5.4 6.  5.4 4.8]\n",
      "EWE:  [3.9706688  3.5726352  2.79111931 2.79111931 2.98027223 5.38302768\n",
      " 2.98027223 3.18397645 4.18397645 4.40763702 4.40291517 4.59206808\n",
      " 3.80049416 3.40291517 3.59724454 4.40291517 4.00533618 3.79111931\n",
      " 4.59206808 5.18511424 5.59724454 6.39354032 4.59206808 4.79645549\n",
      " 5.19921094 4.40291517 3.99482354 6.19921094 5.18511424 4.19852776\n",
      " 4.18443106 4.59724454 4.39399493 4.21376226 4.8253984  3.81084709\n",
      " 4.21825554 3.42332612 4.61651771 3.42218834 3.41326809 3.61247904\n",
      " 3.82090512 4.20888069 4.01035292 5.01455131 5.19966555 4.99596133\n",
      " 3.81572865 4.58383102 3.99078486 3.99596133 4.21376226 4.59724454\n",
      " 4.40809163 4.40359835 4.98141001 5.18511424 4.59792772 4.81572865\n",
      " 4.38881846 4.99596133 4.01539421 3.80163195 5.39354032 6.39354032\n",
      " 4.20858579 4.99078486 3.99078486 3.80163195 4.39819332 4.77633943\n",
      " 3.80163195 4.41814966 4.40359835 5.59724454 5.59724454 4.40291517\n",
      " 5.38881846 4.78639746 4.19448909 4.01005803 4.42218834 4.00015971\n",
      " 5.59724454 4.59724454 6.19921094 5.41701187 4.79577231 4.79645549\n",
      " 5.20858579 5.39354032 5.40809163 4.60128322 3.61134125 4.4129732\n",
      " 4.40359835 4.60730257 6.19921094 5.79157392 4.21376226 4.19448909\n",
      " 4.01005803 3.80163195 4.01005803 3.99527815 3.59724454 4.40291517\n",
      " 3.59724454 3.58718651 3.5913849  3.19852776 6.60242101 5.20858579\n",
      " 6.38881846 5.18511424 7.37426715 5.18511424 5.78639746 5.59724454\n",
      " 5.39354032 5.60242101 5.20858579 6.37426715 5.17993778 4.40291517\n",
      " 4.19921094 4.99078486 4.80567062 4.82022194 4.99596133 4.8110068\n",
      " 4.21376226 4.61651771 4.01005803 3.80163195 3.60730257 4.8110068\n",
      " 4.59724454 4.59724454 4.19921094 4.59724454 6.79157392 5.79157392\n",
      " 6.98072683 7.39354032 6.18511424 6.98072683 6.58786969 6.58786969\n",
      " 6.79157392 5.79157392 5.58314784 6.39285714 5.39285714 5.37876043\n",
      " 4.99527815 4.77702261 7.39871678 7.         5.99596133 6.58786969\n",
      " 6.39354032 4.77633943 4.15982172 4.17437303 4.39285714 5.37944361\n",
      " 5.38881846 5.98072683 5.39354032 4.78639746]\n"
     ]
    }
   ],
   "source": [
    "temp_labels_df = labels_df.copy()\n",
    "\n",
    "for grp in groups:\n",
    "    for ses in sessions:\n",
    "        if grp+\"_\"+ses != \"8_3\":\n",
    "            interactionID  = grp+'_'+ses\n",
    "            interaction_df =  temp_labels_df.loc[temp_labels_df['interactionID'] == interactionID] \n",
    "            pair_correls, annot_rho_dict, mean_labels, norm_ewe_gt = calc.calculate_goldstandard_gt(interaction_df, \"arousal\")\n",
    "    \n",
    "    print(annot_rho_dict)\n",
    "    print(\"Mean: \", mean_labels)\n",
    "    print(\"EWE: \", norm_ewe_gt)    \n",
    "    \n",
    "    break      "
   ]
  },
  {
   "cell_type": "code",
   "execution_count": null,
   "metadata": {},
   "outputs": [],
   "source": []
  }
 ],
 "metadata": {
  "kernelspec": {
   "display_name": "aer-phd",
   "language": "python",
   "name": "python3"
  },
  "language_info": {
   "codemirror_mode": {
    "name": "ipython",
    "version": 3
   },
   "file_extension": ".py",
   "mimetype": "text/x-python",
   "name": "python",
   "nbconvert_exporter": "python",
   "pygments_lexer": "ipython3",
   "version": "3.8.10"
  },
  "orig_nbformat": 4,
  "vscode": {
   "interpreter": {
    "hash": "4aafdaa29b3b73eb9e08eaebf0fd24b2a126d56159a1c6776b82dd84d5bb3715"
   }
  }
 },
 "nbformat": 4,
 "nbformat_minor": 2
}
